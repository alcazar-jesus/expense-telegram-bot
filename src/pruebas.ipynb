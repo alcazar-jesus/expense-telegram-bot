{
 "cells": [
  {
   "cell_type": "code",
   "execution_count": null,
   "metadata": {},
   "outputs": [],
   "source": [
    "from dotenv import load_dotenv\n",
    "TOKEN = os.getenv('API_TOKEN')"
   ]
  },
  {
   "cell_type": "code",
   "execution_count": 1,
   "metadata": {},
   "outputs": [],
   "source": [
    "import nest_asyncio\n",
    "nest_asyncio.apply()"
   ]
  },
  {
   "cell_type": "code",
   "execution_count": 4,
   "metadata": {},
   "outputs": [],
   "source": [
    "#!/usr/bin/env python\n",
    "# pylint: disable=unused-argument\n",
    "# This program is dedicated to the public domain under the CC0 license.\n",
    "\n",
    "\"\"\"\n",
    "Simple Bot to send timed Telegram messages.\n",
    "\n",
    "This Bot uses the Application class to handle the bot and the JobQueue to send\n",
    "timed messages.\n",
    "\n",
    "First, a few handler functions are defined. Then, those functions are passed to\n",
    "the Application and registered at their respective places.\n",
    "Then, the bot is started and runs until we press Ctrl-C on the command line.\n",
    "\n",
    "Usage:\n",
    "Basic Alarm Bot example, sends a message after a set time.\n",
    "Press Ctrl-C on the command line or send a signal to the process to stop the\n",
    "bot.\n",
    "\n",
    "Note:\n",
    "To use the JobQueue, you must install PTB via\n",
    "`pip install \"python-telegram-bot[job-queue]\"`\n",
    "\"\"\"\n",
    "\n",
    "import logging\n",
    "\n",
    "from telegram import Update\n",
    "from telegram.ext import Application, CommandHandler, ContextTypes\n",
    "\n",
    "# Enable logging\n",
    "logging.basicConfig(\n",
    "    format=\"%(asctime)s - %(name)s - %(levelname)s - %(message)s\", level=logging.INFO\n",
    ")\n",
    "\n",
    "\n",
    "# Define a few command handlers. These usually take the two arguments update and\n",
    "# context.\n",
    "# Best practice would be to replace context with an underscore,\n",
    "# since context is an unused local variable.\n",
    "# This being an example and not having context present confusing beginners,\n",
    "# we decided to have it present as context.\n",
    "async def start(update: Update, context: ContextTypes.DEFAULT_TYPE) -> None:\n",
    "    \"\"\"Sends explanation on how to use the bot.\"\"\"\n",
    "    await update.message.reply_text(\"Hi! Use /set <seconds> to set a timer\")\n",
    "\n",
    "\n",
    "async def alarm(context: ContextTypes.DEFAULT_TYPE) -> None:\n",
    "    \"\"\"Send the alarm message.\"\"\"\n",
    "    job = context.job\n",
    "    await context.bot.send_message(job.chat_id, text=f\"Beep! {job.data} seconds are over!\")\n",
    "\n",
    "\n",
    "def remove_job_if_exists(name: str, context: ContextTypes.DEFAULT_TYPE) -> bool:\n",
    "    \"\"\"Remove job with given name. Returns whether job was removed.\"\"\"\n",
    "    current_jobs = context.job_queue.get_jobs_by_name(name)\n",
    "    if not current_jobs:\n",
    "        return False\n",
    "    for job in current_jobs:\n",
    "        job.schedule_removal()\n",
    "    return True\n",
    "\n",
    "\n",
    "async def set_timer(update: Update, context: ContextTypes.DEFAULT_TYPE) -> None:\n",
    "    \"\"\"Add a job to the queue.\"\"\"\n",
    "    chat_id = update.effective_message.chat_id\n",
    "    try:\n",
    "        # args[0] should contain the time for the timer in seconds\n",
    "        due = float(context.args[0])\n",
    "        if due < 0:\n",
    "            await update.effective_message.reply_text(\"Sorry we can not go back to future!\")\n",
    "            return\n",
    "\n",
    "        job_removed = remove_job_if_exists(str(chat_id), context)\n",
    "        context.job_queue.run_once(alarm, due, chat_id=chat_id, name=str(chat_id), data=due)\n",
    "\n",
    "        text = \"Timer successfully set!\"\n",
    "        if job_removed:\n",
    "            text += \" Old one was removed.\"\n",
    "        await update.effective_message.reply_text(text)\n",
    "\n",
    "    except (IndexError, ValueError):\n",
    "        await update.effective_message.reply_text(\"Usage: /set <seconds>\")\n",
    "\n",
    "\n",
    "async def unset(update: Update, context: ContextTypes.DEFAULT_TYPE) -> None:\n",
    "    \"\"\"Remove the job if the user changed their mind.\"\"\"\n",
    "    chat_id = update.message.chat_id\n",
    "    job_removed = remove_job_if_exists(str(chat_id), context)\n",
    "    text = \"Timer successfully cancelled!\" if job_removed else \"You have no active timer.\"\n",
    "    await update.message.reply_text(text)\n",
    "\n",
    "\n",
    "def main() -> None:\n",
    "    \"\"\"Run bot.\"\"\"\n",
    "    # Create the Application and pass it your bot's token.\n",
    "    application = Application.builder().token(TOKEN).build()\n",
    "\n",
    "    # on different commands - answer in Telegram\n",
    "    application.add_handler(CommandHandler([\"start\", \"help\"], start))\n",
    "    application.add_handler(CommandHandler(\"set\", set_timer))\n",
    "    application.add_handler(CommandHandler(\"unset\", unset))\n",
    "\n",
    "    # Run the bot until the user presses Ctrl-C\n",
    "    application.run_polling(allowed_updates=Update.ALL_TYPES)"
   ]
  },
  {
   "cell_type": "code",
   "execution_count": 2,
   "metadata": {},
   "outputs": [],
   "source": [
    "#!/usr/bin/env python\n",
    "# pylint: disable=unused-argument\n",
    "# This program is dedicated to the public domain under the CC0 license.\n",
    "\n",
    "\"\"\"\n",
    "Simple Bot to showcase `telegram.ext.ContextTypes`.\n",
    "\n",
    "Usage:\n",
    "Press Ctrl-C on the command line or send a signal to the process to stop the\n",
    "bot.\n",
    "\"\"\"\n",
    "\n",
    "import logging\n",
    "from collections import defaultdict\n",
    "from typing import Optional\n",
    "\n",
    "from telegram import InlineKeyboardButton, InlineKeyboardMarkup, Update\n",
    "from telegram.constants import ParseMode\n",
    "from telegram.ext import (\n",
    "    Application,\n",
    "    CallbackContext,\n",
    "    CallbackQueryHandler,\n",
    "    CommandHandler,\n",
    "    ContextTypes,\n",
    "    ExtBot,\n",
    "    TypeHandler,\n",
    ")\n",
    "\n",
    "# Enable logging\n",
    "logging.basicConfig(\n",
    "    format=\"%(asctime)s - %(name)s - %(levelname)s - %(message)s\", level=logging.INFO\n",
    ")\n",
    "# set higher logging level for httpx to avoid all GET and POST requests being logged\n",
    "logging.getLogger(\"httpx\").setLevel(logging.WARNING)\n",
    "\n",
    "logger = logging.getLogger(__name__)\n",
    "\n",
    "\n",
    "class ChatData:\n",
    "    \"\"\"Custom class for chat_data. Here we store data per message.\"\"\"\n",
    "\n",
    "    def __init__(self) -> None:\n",
    "        self.clicks_per_message: defaultdict[int, int] = defaultdict(int)\n",
    "\n",
    "\n",
    "# The [ExtBot, dict, ChatData, dict] is for type checkers like mypy\n",
    "class CustomContext(CallbackContext[ExtBot, dict, ChatData, dict]):\n",
    "    \"\"\"Custom class for context.\"\"\"\n",
    "\n",
    "    def __init__(\n",
    "        self,\n",
    "        application: Application,\n",
    "        chat_id: Optional[int] = None,\n",
    "        user_id: Optional[int] = None,\n",
    "    ):\n",
    "        super().__init__(application=application, chat_id=chat_id, user_id=user_id)\n",
    "        self._message_id: Optional[int] = None\n",
    "\n",
    "    @property\n",
    "    def bot_user_ids(self) -> set[int]:\n",
    "        \"\"\"Custom shortcut to access a value stored in the bot_data dict\"\"\"\n",
    "        return self.bot_data.setdefault(\"user_ids\", set())\n",
    "\n",
    "    @property\n",
    "    def message_clicks(self) -> Optional[int]:\n",
    "        \"\"\"Access the number of clicks for the message this context object was built for.\"\"\"\n",
    "        if self._message_id:\n",
    "            return self.chat_data.clicks_per_message[self._message_id]\n",
    "        return None\n",
    "\n",
    "    @message_clicks.setter\n",
    "    def message_clicks(self, value: int) -> None:\n",
    "        \"\"\"Allow to change the count\"\"\"\n",
    "        if not self._message_id:\n",
    "            raise RuntimeError(\"There is no message associated with this context object.\")\n",
    "        self.chat_data.clicks_per_message[self._message_id] = value\n",
    "\n",
    "    @classmethod\n",
    "    def from_update(cls, update: object, application: \"Application\") -> \"CustomContext\":\n",
    "        \"\"\"Override from_update to set _message_id.\"\"\"\n",
    "        # Make sure to call super()\n",
    "        context = super().from_update(update, application)\n",
    "\n",
    "        if context.chat_data and isinstance(update, Update) and update.effective_message:\n",
    "            # pylint: disable=protected-access\n",
    "            context._message_id = update.effective_message.message_id\n",
    "\n",
    "        # Remember to return the object\n",
    "        return context\n",
    "\n",
    "\n",
    "async def start(update: Update, context: CustomContext) -> None:\n",
    "    \"\"\"Display a message with a button.\"\"\"\n",
    "    await update.message.reply_html(\n",
    "        \"This button was clicked <i>0</i> times.\",\n",
    "        reply_markup=InlineKeyboardMarkup.from_button(\n",
    "            InlineKeyboardButton(text=\"Click me!\", callback_data=\"button\")\n",
    "        ),\n",
    "    )\n",
    "\n",
    "\n",
    "async def count_click(update: Update, context: CustomContext) -> None:\n",
    "    \"\"\"Update the click count for the message.\"\"\"\n",
    "    context.message_clicks += 1\n",
    "    await update.callback_query.answer()\n",
    "    await update.effective_message.edit_text(\n",
    "        f\"This button was clicked <i>{context.message_clicks}</i> times.\",\n",
    "        reply_markup=InlineKeyboardMarkup.from_button(\n",
    "            InlineKeyboardButton(text=\"Click me!\", callback_data=\"button\")\n",
    "        ),\n",
    "        parse_mode=ParseMode.HTML,\n",
    "    )\n",
    "\n",
    "\n",
    "async def print_users(update: Update, context: CustomContext) -> None:\n",
    "    \"\"\"Show which users have been using this bot.\"\"\"\n",
    "    await update.message.reply_text(\n",
    "        f\"The following user IDs have used this bot: {', '.join(map(str, context.bot_user_ids))}\"\n",
    "    )\n",
    "\n",
    "\n",
    "async def track_users(update: Update, context: CustomContext) -> None:\n",
    "    \"\"\"Store the user id of the incoming update, if any.\"\"\"\n",
    "    if update.effective_user:\n",
    "        context.bot_user_ids.add(update.effective_user.id)\n",
    "\n",
    "\n",
    "def main() -> None:\n",
    "    \"\"\"Run the bot.\"\"\"\n",
    "    context_types = ContextTypes(context=CustomContext, chat_data=ChatData)\n",
    "    application = Application.builder().token(TOKEN).context_types(context_types).build()\n",
    "\n",
    "    # run track_users in its own group to not interfere with the user handlers\n",
    "    application.add_handler(TypeHandler(Update, track_users), group=-1)\n",
    "    application.add_handler(CommandHandler(\"start\", start))\n",
    "    application.add_handler(CallbackQueryHandler(count_click))\n",
    "    application.add_handler(CommandHandler(\"print_users\", print_users))\n",
    "\n",
    "    application.run_polling(allowed_updates=Update.ALL_TYPES)\n"
   ]
  },
  {
   "cell_type": "code",
   "execution_count": 6,
   "metadata": {},
   "outputs": [
    {
     "name": "stderr",
     "output_type": "stream",
     "text": [
      "2025-05-20 15:26:20,298 - telegram.ext.Application - INFO - Application started\n"
     ]
    },
    {
     "name": "stderr",
     "output_type": "stream",
     "text": [
      "/tmp/ipykernel_4023972/3842824468.py:55: PTBUserWarning: No `JobQueue` set up. To use `JobQueue`, you must install PTB via `pip install \"python-telegram-bot[job-queue]\"`.\n",
      "  current_jobs = context.job_queue.get_jobs_by_name(name)\n",
      "2025-05-20 15:26:40,286 - telegram.ext.Application - ERROR - No error handlers are registered, logging exception.\n",
      "Traceback (most recent call last):\n",
      "  File \"/home/dev/Proyectos/pru_etb/expense-telegram-bot/venv/lib/python3.13/site-packages/telegram/ext/_application.py\", line 1298, in process_update\n",
      "    await coroutine\n",
      "  File \"/home/dev/Proyectos/pru_etb/expense-telegram-bot/venv/lib/python3.13/site-packages/telegram/ext/_handlers/basehandler.py\", line 158, in handle_update\n",
      "    return await self.callback(update, context)\n",
      "           ^^^^^^^^^^^^^^^^^^^^^^^^^^^^^^^^^^^^\n",
      "  File \"/tmp/ipykernel_4023972/3842824468.py\", line 73, in set_timer\n",
      "    job_removed = remove_job_if_exists(str(chat_id), context)\n",
      "  File \"/tmp/ipykernel_4023972/3842824468.py\", line 55, in remove_job_if_exists\n",
      "    current_jobs = context.job_queue.get_jobs_by_name(name)\n",
      "                   ^^^^^^^^^^^^^^^^^^^^^^^^^^^^^^^^^^\n",
      "AttributeError: 'NoneType' object has no attribute 'get_jobs_by_name'\n",
      "2025-05-20 15:27:13,534 - telegram.ext.Application - INFO - Application is stopping. This might take a moment.\n",
      "2025-05-20 15:27:13,535 - telegram.ext.Application - INFO - Application.stop() complete\n"
     ]
    },
    {
     "ename": "RuntimeError",
     "evalue": "Cannot close a running event loop",
     "output_type": "error",
     "traceback": [
      "\u001b[31m---------------------------------------------------------------------------\u001b[39m",
      "\u001b[31mRuntimeError\u001b[39m                              Traceback (most recent call last)",
      "\u001b[36mCell\u001b[39m\u001b[36m \u001b[39m\u001b[32mIn[6]\u001b[39m\u001b[32m, line 1\u001b[39m\n\u001b[32m----> \u001b[39m\u001b[32m1\u001b[39m \u001b[43mmain\u001b[49m\u001b[43m(\u001b[49m\u001b[43m)\u001b[49m\n",
      "\u001b[36mCell\u001b[39m\u001b[36m \u001b[39m\u001b[32mIn[4]\u001b[39m\u001b[32m, line 104\u001b[39m, in \u001b[36mmain\u001b[39m\u001b[34m()\u001b[39m\n\u001b[32m    101\u001b[39m application.add_handler(CommandHandler(\u001b[33m\"\u001b[39m\u001b[33munset\u001b[39m\u001b[33m\"\u001b[39m, unset))\n\u001b[32m    103\u001b[39m \u001b[38;5;66;03m# Run the bot until the user presses Ctrl-C\u001b[39;00m\n\u001b[32m--> \u001b[39m\u001b[32m104\u001b[39m \u001b[43mapplication\u001b[49m\u001b[43m.\u001b[49m\u001b[43mrun_polling\u001b[49m\u001b[43m(\u001b[49m\u001b[43mallowed_updates\u001b[49m\u001b[43m=\u001b[49m\u001b[43mUpdate\u001b[49m\u001b[43m.\u001b[49m\u001b[43mALL_TYPES\u001b[49m\u001b[43m)\u001b[49m\n",
      "\u001b[36mFile \u001b[39m\u001b[32m~/Proyectos/pru_etb/expense-telegram-bot/venv/lib/python3.13/site-packages/telegram/ext/_application.py:832\u001b[39m, in \u001b[36mApplication.run_polling\u001b[39m\u001b[34m(self, poll_interval, timeout, bootstrap_retries, allowed_updates, drop_pending_updates, close_loop, stop_signals)\u001b[39m\n\u001b[32m    829\u001b[39m \u001b[38;5;28;01mdef\u001b[39;00m\u001b[38;5;250m \u001b[39m\u001b[34merror_callback\u001b[39m(exc: TelegramError) -> \u001b[38;5;28;01mNone\u001b[39;00m:\n\u001b[32m    830\u001b[39m     \u001b[38;5;28mself\u001b[39m.create_task(\u001b[38;5;28mself\u001b[39m.process_error(error=exc, update=\u001b[38;5;28;01mNone\u001b[39;00m))\n\u001b[32m--> \u001b[39m\u001b[32m832\u001b[39m \u001b[38;5;28;01mreturn\u001b[39;00m \u001b[38;5;28;43mself\u001b[39;49m\u001b[43m.\u001b[49m\u001b[43m__run\u001b[49m\u001b[43m(\u001b[49m\n\u001b[32m    833\u001b[39m \u001b[43m    \u001b[49m\u001b[43mupdater_coroutine\u001b[49m\u001b[43m=\u001b[49m\u001b[38;5;28;43mself\u001b[39;49m\u001b[43m.\u001b[49m\u001b[43mupdater\u001b[49m\u001b[43m.\u001b[49m\u001b[43mstart_polling\u001b[49m\u001b[43m(\u001b[49m\n\u001b[32m    834\u001b[39m \u001b[43m        \u001b[49m\u001b[43mpoll_interval\u001b[49m\u001b[43m=\u001b[49m\u001b[43mpoll_interval\u001b[49m\u001b[43m,\u001b[49m\n\u001b[32m    835\u001b[39m \u001b[43m        \u001b[49m\u001b[43mtimeout\u001b[49m\u001b[43m=\u001b[49m\u001b[43mtimeout\u001b[49m\u001b[43m,\u001b[49m\n\u001b[32m    836\u001b[39m \u001b[43m        \u001b[49m\u001b[43mbootstrap_retries\u001b[49m\u001b[43m=\u001b[49m\u001b[43mbootstrap_retries\u001b[49m\u001b[43m,\u001b[49m\n\u001b[32m    837\u001b[39m \u001b[43m        \u001b[49m\u001b[43mallowed_updates\u001b[49m\u001b[43m=\u001b[49m\u001b[43mallowed_updates\u001b[49m\u001b[43m,\u001b[49m\n\u001b[32m    838\u001b[39m \u001b[43m        \u001b[49m\u001b[43mdrop_pending_updates\u001b[49m\u001b[43m=\u001b[49m\u001b[43mdrop_pending_updates\u001b[49m\u001b[43m,\u001b[49m\n\u001b[32m    839\u001b[39m \u001b[43m        \u001b[49m\u001b[43merror_callback\u001b[49m\u001b[43m=\u001b[49m\u001b[43merror_callback\u001b[49m\u001b[43m,\u001b[49m\u001b[43m  \u001b[49m\u001b[38;5;66;43;03m# if there is an error in fetching updates\u001b[39;49;00m\n\u001b[32m    840\u001b[39m \u001b[43m    \u001b[49m\u001b[43m)\u001b[49m\u001b[43m,\u001b[49m\n\u001b[32m    841\u001b[39m \u001b[43m    \u001b[49m\u001b[43mstop_signals\u001b[49m\u001b[43m=\u001b[49m\u001b[43mstop_signals\u001b[49m\u001b[43m,\u001b[49m\n\u001b[32m    842\u001b[39m \u001b[43m    \u001b[49m\u001b[43mbootstrap_retries\u001b[49m\u001b[43m=\u001b[49m\u001b[43mbootstrap_retries\u001b[49m\u001b[43m,\u001b[49m\n\u001b[32m    843\u001b[39m \u001b[43m    \u001b[49m\u001b[43mclose_loop\u001b[49m\u001b[43m=\u001b[49m\u001b[43mclose_loop\u001b[49m\u001b[43m,\u001b[49m\n\u001b[32m    844\u001b[39m \u001b[43m\u001b[49m\u001b[43m)\u001b[49m\n",
      "\u001b[36mFile \u001b[39m\u001b[32m~/Proyectos/pru_etb/expense-telegram-bot/venv/lib/python3.13/site-packages/telegram/ext/_application.py:1072\u001b[39m, in \u001b[36mApplication.__run\u001b[39m\u001b[34m(self, updater_coroutine, stop_signals, bootstrap_retries, close_loop)\u001b[39m\n\u001b[32m   1070\u001b[39m \u001b[38;5;28;01mfinally\u001b[39;00m:\n\u001b[32m   1071\u001b[39m     \u001b[38;5;28;01mif\u001b[39;00m close_loop:\n\u001b[32m-> \u001b[39m\u001b[32m1072\u001b[39m         \u001b[43mloop\u001b[49m\u001b[43m.\u001b[49m\u001b[43mclose\u001b[49m\u001b[43m(\u001b[49m\u001b[43m)\u001b[49m\n",
      "\u001b[36mFile \u001b[39m\u001b[32m~/.pyenv/versions/3.13.3/lib/python3.13/asyncio/unix_events.py:70\u001b[39m, in \u001b[36m_UnixSelectorEventLoop.close\u001b[39m\u001b[34m(self)\u001b[39m\n\u001b[32m     69\u001b[39m \u001b[38;5;28;01mdef\u001b[39;00m\u001b[38;5;250m \u001b[39m\u001b[34mclose\u001b[39m(\u001b[38;5;28mself\u001b[39m):\n\u001b[32m---> \u001b[39m\u001b[32m70\u001b[39m     \u001b[38;5;28;43msuper\u001b[39;49m\u001b[43m(\u001b[49m\u001b[43m)\u001b[49m\u001b[43m.\u001b[49m\u001b[43mclose\u001b[49m\u001b[43m(\u001b[49m\u001b[43m)\u001b[49m\n\u001b[32m     71\u001b[39m     \u001b[38;5;28;01mif\u001b[39;00m \u001b[38;5;129;01mnot\u001b[39;00m sys.is_finalizing():\n\u001b[32m     72\u001b[39m         \u001b[38;5;28;01mfor\u001b[39;00m sig \u001b[38;5;129;01min\u001b[39;00m \u001b[38;5;28mlist\u001b[39m(\u001b[38;5;28mself\u001b[39m._signal_handlers):\n",
      "\u001b[36mFile \u001b[39m\u001b[32m~/.pyenv/versions/3.13.3/lib/python3.13/asyncio/selector_events.py:101\u001b[39m, in \u001b[36mBaseSelectorEventLoop.close\u001b[39m\u001b[34m(self)\u001b[39m\n\u001b[32m     99\u001b[39m \u001b[38;5;28;01mdef\u001b[39;00m\u001b[38;5;250m \u001b[39m\u001b[34mclose\u001b[39m(\u001b[38;5;28mself\u001b[39m):\n\u001b[32m    100\u001b[39m     \u001b[38;5;28;01mif\u001b[39;00m \u001b[38;5;28mself\u001b[39m.is_running():\n\u001b[32m--> \u001b[39m\u001b[32m101\u001b[39m         \u001b[38;5;28;01mraise\u001b[39;00m \u001b[38;5;167;01mRuntimeError\u001b[39;00m(\u001b[33m\"\u001b[39m\u001b[33mCannot close a running event loop\u001b[39m\u001b[33m\"\u001b[39m)\n\u001b[32m    102\u001b[39m     \u001b[38;5;28;01mif\u001b[39;00m \u001b[38;5;28mself\u001b[39m.is_closed():\n\u001b[32m    103\u001b[39m         \u001b[38;5;28;01mreturn\u001b[39;00m\n",
      "\u001b[31mRuntimeError\u001b[39m: Cannot close a running event loop"
     ]
    }
   ],
   "source": [
    "main()"
   ]
  },
  {
   "cell_type": "code",
   "execution_count": 8,
   "metadata": {},
   "outputs": [],
   "source": [
    "def chunk_list(lst, n):\n",
    "    \"\"\"Divide una lista en sublistas de longitud n.\"\"\"\n",
    "    return [lst[i:i + n] for i in range(0, len(lst), n)]"
   ]
  },
  {
   "cell_type": "code",
   "execution_count": 13,
   "metadata": {},
   "outputs": [
    {
     "data": {
      "text/plain": [
       "[['a', 'b'], ['c', 'd'], ['e', 'f'], ['g']]"
      ]
     },
     "execution_count": 13,
     "metadata": {},
     "output_type": "execute_result"
    }
   ],
   "source": [
    "chunk_list([\"a\", \"b\", \"c\", \"d\", \"e\", \"f\", \"g\"], 2)"
   ]
  },
  {
   "cell_type": "code",
   "execution_count": 8,
   "metadata": {},
   "outputs": [],
   "source": [
    "from src.utils.user_utils import load_users, check_user"
   ]
  },
  {
   "cell_type": "code",
   "execution_count": 6,
   "metadata": {},
   "outputs": [],
   "source": [
    "users = load_users()"
   ]
  },
  {
   "cell_type": "code",
   "execution_count": 7,
   "metadata": {},
   "outputs": [
    {
     "data": {
      "text/plain": [
       "[]"
      ]
     },
     "execution_count": 7,
     "metadata": {},
     "output_type": "execute_result"
    }
   ],
   "source": [
    "users"
   ]
  },
  {
   "cell_type": "code",
   "execution_count": 11,
   "metadata": {},
   "outputs": [
    {
     "data": {
      "text/plain": [
       "'registrar123'"
      ]
     },
     "execution_count": 11,
     "metadata": {},
     "output_type": "execute_result"
    }
   ],
   "source": [
    "REGISTER_PWD"
   ]
  },
  {
   "cell_type": "code",
   "execution_count": 13,
   "metadata": {},
   "outputs": [
    {
     "name": "stdout",
     "output_type": "stream",
     "text": [
      "True\n"
     ]
    }
   ],
   "source": [
    "users = load_users()\n",
    "if 123 in users:\n",
    "    print(False)\n",
    "else:\n",
    "    print(True)"
   ]
  },
  {
   "cell_type": "code",
   "execution_count": 10,
   "metadata": {},
   "outputs": [
    {
     "data": {
      "text/plain": [
       "True"
      ]
     },
     "execution_count": 10,
     "metadata": {},
     "output_type": "execute_result"
    }
   ],
   "source": [
    "check_user('1234')"
   ]
  }
 ],
 "metadata": {
  "kernelspec": {
   "display_name": "venv",
   "language": "python",
   "name": "python3"
  },
  "language_info": {
   "codemirror_mode": {
    "name": "ipython",
    "version": 3
   },
   "file_extension": ".py",
   "mimetype": "text/x-python",
   "name": "python",
   "nbconvert_exporter": "python",
   "pygments_lexer": "ipython3",
   "version": "3.13.3"
  }
 },
 "nbformat": 4,
 "nbformat_minor": 2
}
